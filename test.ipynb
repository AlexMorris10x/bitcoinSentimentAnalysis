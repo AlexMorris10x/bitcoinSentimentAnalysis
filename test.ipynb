{
 "cells": [
  {
   "cell_type": "code",
   "execution_count": null,
   "metadata": {},
   "outputs": [],
   "source": []
  },
  {
   "cell_type": "markdown",
   "metadata": {},
   "source": [
    "Merge the data "
   ]
  },
  {
   "cell_type": "code",
   "execution_count": 67,
   "metadata": {},
   "outputs": [
    {
     "ename": "AttributeError",
     "evalue": "'list' object has no attribute 'duplicated'",
     "output_type": "error",
     "traceback": [
      "\u001b[0;31m---------------------------------------------------------------------------\u001b[0m",
      "\u001b[0;31mAttributeError\u001b[0m                            Traceback (most recent call last)",
      "\u001b[1;32m/Users/alexmorris/masteringData/test.ipynb Cell 3'\u001b[0m in \u001b[0;36m<module>\u001b[0;34m\u001b[0m\n\u001b[1;32m      <a href='vscode-notebook-cell:/Users/alexmorris/masteringData/test.ipynb#ch0000002?line=0'>1</a>\u001b[0m fileName \u001b[39m=\u001b[39m \u001b[39m'\u001b[39m\u001b[39m/Users/alexmorris/masteringData/Fear Greed Index.csv\u001b[39m\u001b[39m'\u001b[39m\n\u001b[1;32m      <a href='vscode-notebook-cell:/Users/alexmorris/masteringData/test.ipynb#ch0000002?line=2'>3</a>\u001b[0m all_data \u001b[39m=\u001b[39m readCSV(fileName)\n\u001b[0;32m----> <a href='vscode-notebook-cell:/Users/alexmorris/masteringData/test.ipynb#ch0000002?line=4'>5</a>\u001b[0m all_data\u001b[39m.\u001b[39;49mduplicated(keep\u001b[39m=\u001b[39m\u001b[39mFalse\u001b[39;00m)\n\u001b[1;32m      <a href='vscode-notebook-cell:/Users/alexmorris/masteringData/test.ipynb#ch0000002?line=5'>6</a>\u001b[0m get_ipython()\u001b[39m.\u001b[39mrun_line_magic(\u001b[39m'\u001b[39m\u001b[39mpinfo\u001b[39m\u001b[39m'\u001b[39m, \u001b[39m'\u001b[39m\u001b[39mduplicated.random.randint\u001b[39m\u001b[39m'\u001b[39m)\n",
      "\u001b[0;31mAttributeError\u001b[0m: 'list' object has no attribute 'duplicated'"
     ]
    }
   ],
   "source": [
    "fileName = '/Users/alexmorris/masteringData/Fear Greed Index.csv'\n",
    "\n",
    "all_data = readCSV(fileName)\n",
    "\n",
    "all_data.duplicated(keep=False)\n",
    "duplicated.random.randint?\n",
    "\n"
   ]
  },
  {
   "cell_type": "code",
   "execution_count": null,
   "metadata": {},
   "outputs": [
    {
     "name": "stdout",
     "output_type": "stream",
     "text": [
      "Counter({'tim': 4, 'tom': 2, 'martha': 1, 'bobby': 1})\n",
      "[('tim', 4), ('tom', 2)]\n"
     ]
    }
   ],
   "source": [
    "array = [\"martha\", \"tim\", \"tom\", \"tim\", \"bobby\", \"tim\", \"tim\", \"tom\"]\n",
    "\n",
    "def howManyRepeatsInArray(array):\n",
    "    import collections\n",
    "    return collections.Counter(array)\n",
    "\n",
    "def findTopTwoLargestRepeats(array):\n",
    "    import collections\n",
    "    return collections.Counter(array).most_common(2)\n",
    "print(howManyRepeatsInArray(array))\n",
    "print(findTopTwoLargestRepeats(array))\n",
    "findTopTwoLargestRepeats.duplicated(keep=False)\n",
    "\n",
    "\n"
   ]
  },
  {
   "cell_type": "markdown",
   "metadata": {},
   "source": [
    "### What do? "
   ]
  },
  {
   "cell_type": "code",
   "execution_count": 103,
   "metadata": {},
   "outputs": [
    {
     "name": "stdout",
     "output_type": "stream",
     "text": [
      "3\n"
     ]
    }
   ],
   "source": [
    "\n",
    "# You are given an integer array coins representing coins of different denominations and an integer amount representing a total amount of money.\n",
    "\n",
    "# Return the fewest number of coins that you need to make up that amount. If that amount of money cannot be made up by any combination of the coins, return -1.\n",
    "\n",
    "# You may assume that you have an infinite number of each kind of coin.\n",
    "\n",
    "# Example 1:\n",
    "\n",
    "# Input: coins = [1,2,5], amount = 11\n",
    "# Output: 3\n",
    "# Explanation: 11 = 5 + 5 + 1\n",
    "# Example 2:\n",
    "\n",
    "# Input: coins = [2], amount = 3\n",
    "# Output: -1\n",
    "# Example 3:\n",
    "\n",
    "# Input: coins = [1], amount = 0\n",
    "# Output: 0\n",
    "coins = [7]\n",
    "amount = 30\n",
    "\n",
    "def coinChange(coins, amount):\n",
    "    coins.sort(reverse=True)\n",
    "    for coin in coins:\n",
    "        if coin == amount:\n",
    "            return 1\n",
    "        elif coin < amount:\n",
    "            amount -= coin\n",
    "            return 1 + coinChange(coins, amount)\n",
    "        return -1\n",
    "\n",
    "print(coinChange(coins, amount))"
   ]
  },
  {
   "cell_type": "code",
   "execution_count": null,
   "metadata": {},
   "outputs": [],
   "source": []
  }
 ],
 "metadata": {
  "interpreter": {
   "hash": "b0fa6594d8f4cbf19f97940f81e996739fb7646882a419484c72d19e05852a7e"
  },
  "kernelspec": {
   "display_name": "Python 3.9.10 64-bit",
   "language": "python",
   "name": "python3"
  },
  "language_info": {
   "codemirror_mode": {
    "name": "ipython",
    "version": 3
   },
   "file_extension": ".py",
   "mimetype": "text/x-python",
   "name": "python",
   "nbconvert_exporter": "python",
   "pygments_lexer": "ipython3",
   "version": "3.9.10"
  },
  "orig_nbformat": 4
 },
 "nbformat": 4,
 "nbformat_minor": 2
}
