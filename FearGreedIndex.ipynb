{
 "cells": [
  {
   "cell_type": "markdown",
   "metadata": {},
   "source": [
    "Questions.. how do I predict macro trends for Crypto currencies "
   ]
  },
  {
   "cell_type": "markdown",
   "metadata": {},
   "source": [
    "### Get the dates and amount of fear greed  "
   ]
  },
  {
   "cell_type": "code",
   "execution_count": 360,
   "metadata": {},
   "outputs": [],
   "source": [
    "import pandas as pd\n",
    "savedf = pd.read_csv(r\"./Fear Greed Index.csv\")\n",
    "\n",
    "# Dropping rows\n",
    "savedf = savedf.drop(columns='Unnamed: 1')\n",
    "savedf = savedf.drop(columns='Unnamed: 2')\n",
    "savedf = savedf.drop(columns='Unnamed: 3')\n",
    "savedf = savedf.drop(columns='Unnamed: 4')\n",
    "savedf = savedf.drop(columns='Unnamed: 5')\n",
    "savedf = savedf.drop(savedf.tail(5).index)\n",
    "\n",
    "# Renaming columns \n",
    "savedf = savedf.rename(columns={'Unnamed: 0': 'c1'})"
   ]
  },
  {
   "cell_type": "markdown",
   "metadata": {},
   "source": [
    "### Split the date and the amount into two seporate columns "
   ]
  },
  {
   "cell_type": "code",
   "execution_count": 361,
   "metadata": {},
   "outputs": [],
   "source": [
    "# totally not relavent to the rest of the analysis\n",
    "# df['c2'] = df.iloc[::2,0]\n",
    "# df['c3'] = df.iloc[1::2,0]\n",
    "\n",
    "# df"
   ]
  },
  {
   "cell_type": "markdown",
   "metadata": {},
   "source": [
    "### Drop NaNs"
   ]
  },
  {
   "cell_type": "code",
   "execution_count": 362,
   "metadata": {},
   "outputs": [],
   "source": [
    "df = savedf\n",
    "\n",
    "df = pd.DataFrame(df.c1.values.reshape(-1,2),columns=['c2','c3'])\n",
    "df = df.rename(columns={'c2': 'date'})\n",
    "df = df.rename(columns={'c3': 'sentiment'})\n",
    "\n",
    "savedf = df"
   ]
  },
  {
   "cell_type": "markdown",
   "metadata": {},
   "source": [
    "### strip the words from C2"
   ]
  },
  {
   "cell_type": "code",
   "execution_count": 363,
   "metadata": {},
   "outputs": [],
   "source": [
    "df = savedf\n",
    "\n",
    "df['sentiment'] = df['sentiment'].str[0:2]\n",
    "df = df.replace(',','', regex=True)\n",
    "df['sentiment'] = pd.to_numeric(df['sentiment'])\n",
    "\n",
    "savedf = df"
   ]
  },
  {
   "cell_type": "markdown",
   "metadata": {},
   "source": [
    "#### Add btc price "
   ]
  },
  {
   "cell_type": "code",
   "execution_count": 364,
   "metadata": {},
   "outputs": [],
   "source": [
    "btcPrice = pd.read_csv(r\"./btcPrice.csv\")\n",
    "btcPrice = btcPrice.drop(columns=['Open', 'High', 'Low', 'Volume', 'Adj Close'])\n",
    "btcPriceSave = btcPrice"
   ]
  },
  {
   "cell_type": "markdown",
   "metadata": {},
   "source": [
    "#### Merge BTC prices with dataframe    "
   ]
  },
  {
   "cell_type": "code",
   "execution_count": 365,
   "metadata": {},
   "outputs": [],
   "source": [
    "btcPrice = btcPriceSave\n",
    "\n",
    "df = savedf\n",
    "\n",
    "df.date = pd.to_datetime(df.date)\n",
    "btcPrice.Date = pd.to_datetime(btcPrice.Date)\n",
    "btcPrice = btcPrice.rename(columns={'Date': 'date'})\n",
    "btcPrice = btcPrice.rename (columns={'Close': 'price'})\n",
    "df = pd.merge(btcPrice, df, how='outer', on='date')\n",
    "df = df.dropna()\n",
    "\n",
    "savedf = df"
   ]
  },
  {
   "cell_type": "markdown",
   "metadata": {},
   "source": [
    "#### Intersect both graphs over each other "
   ]
  },
  {
   "cell_type": "code",
   "execution_count": 516,
   "metadata": {},
   "outputs": [
    {
     "data": {
      "text/plain": [
       "'36.84%'"
      ]
     },
     "execution_count": 516,
     "metadata": {},
     "output_type": "execute_result"
    }
   ],
   "source": [
    "df = savedf\n",
    "\n",
    "import numpy as np\n",
    "import matplotlib.pyplot as plt\n",
    "\n",
    "# def halfSpreadsheet(df):\n",
    "#     df = df.drop(df.tail(1).index)\n",
    "#     df = df.drop(df.head(1).index)\n",
    "#     return df   \n",
    "\n",
    "# slicing function\n",
    "# df = df.iloc[np.r_[0:1000]]\n",
    "\n",
    "def trailingAverage(df, n):\n",
    "    df['avg'] = df['sentiment'].rolling(n).mean()\n",
    "    return df\n",
    "\n",
    "def replaceNaN(x):\n",
    "    for i in range(len(x)):\n",
    "        if np.isnan(x[i]):\n",
    "            x[i] = 0\n",
    "    return x\n",
    "\n",
    "def turnNumbersToPerecentes(x):\n",
    "    for i in range(len(x)):\n",
    "        x[i] = (\"{:.2%}\".format( x[i]/ 100)) \n",
    "\n",
    "    return x\n",
    "\n",
    "date = df['date'].tolist()\n",
    "sentiment = df['sentiment'].tolist()\n",
    "price = df['price'].tolist()\n",
    "avg = df['avg'].tolist()\n",
    "avg = replaceNaN(avg)\n",
    "# avg = turnNumbersToPerecentes(avg)\n",
    "\n",
    "correlation = df['price'].corr(df['avg'])\n",
    "correlation = (\"{:.2%}\".format( correlation))\n",
    "correlation\n",
    "\n",
    "# print(avg[-50:])\n",
    "# plt.rcParams[\"figure.figsize\"] = (20,5) \n",
    "\n",
    "# x = np.arange(0, 10, 0.1)\n",
    "# y1 = 0.05 * x**2\n",
    "# y2 = -1 *y1\n",
    "\n",
    "# fig, ax1 = plt.subplots()\n",
    "\n",
    "# ax2 = ax1.twinx()\n",
    "# ax1.plot(date, price, 'g-')\n",
    "# ax2.plot(date, avg, 'y-', linewidth=.5)\n",
    "\n",
    "# ax1.set_xlabel('date')\n",
    "# ax1.set_ylabel('price', color='g')\n",
    "# ax2.set_ylabel('avg', color='y')\n"
   ]
  },
  {
   "cell_type": "code",
   "execution_count": null,
   "metadata": {},
   "outputs": [],
   "source": []
  }
 ],
 "metadata": {
  "interpreter": {
   "hash": "b0fa6594d8f4cbf19f97940f81e996739fb7646882a419484c72d19e05852a7e"
  },
  "kernelspec": {
   "display_name": "Python 3.9.10 64-bit",
   "language": "python",
   "name": "python3"
  },
  "language_info": {
   "codemirror_mode": {
    "name": "ipython",
    "version": 3
   },
   "file_extension": ".py",
   "mimetype": "text/x-python",
   "name": "python",
   "nbconvert_exporter": "python",
   "pygments_lexer": "ipython3",
   "version": "3.9.10"
  },
  "orig_nbformat": 4
 },
 "nbformat": 4,
 "nbformat_minor": 2
}
