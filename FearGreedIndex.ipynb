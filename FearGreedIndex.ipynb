{
 "cells": [
  {
   "cell_type": "markdown",
   "metadata": {},
   "source": [
    "Questions.. how do I predict macro trends for Crypto currencies "
   ]
  },
  {
   "cell_type": "markdown",
   "metadata": {},
   "source": [
    "### Get the dates and amount of fear greed  "
   ]
  },
  {
   "cell_type": "code",
   "execution_count": 256,
   "metadata": {},
   "outputs": [],
   "source": [
    "import pandas as pd\n",
    "savedf = pd.read_csv(r\"./Fear Greed Index.csv\")\n",
    "\n",
    "# Dropping rows\n",
    "savedf = savedf.drop(columns='Unnamed: 1')\n",
    "savedf = savedf.drop(columns='Unnamed: 2')\n",
    "savedf = savedf.drop(columns='Unnamed: 3')\n",
    "savedf = savedf.drop(columns='Unnamed: 4')\n",
    "savedf = savedf.drop(columns='Unnamed: 5')\n",
    "savedf = savedf.drop(savedf.tail(5).index)\n",
    "\n",
    "# Renaming columns \n",
    "savedf = savedf.rename(columns={'Unnamed: 0': 'c1'})"
   ]
  },
  {
   "cell_type": "markdown",
   "metadata": {},
   "source": [
    "### Split the date and the amount into two seporate columns "
   ]
  },
  {
   "cell_type": "code",
   "execution_count": null,
   "metadata": {},
   "outputs": [],
   "source": [
    "# totally not relavent to the rest of the analysis\n",
    "# df['c2'] = df.iloc[::2,0]\n",
    "# df['c3'] = df.iloc[1::2,0]\n",
    "\n",
    "# df"
   ]
  },
  {
   "cell_type": "markdown",
   "metadata": {},
   "source": [
    "### Drop NaNs"
   ]
  },
  {
   "cell_type": "code",
   "execution_count": 257,
   "metadata": {},
   "outputs": [],
   "source": [
    "df = savedf\n",
    "\n",
    "df = pd.DataFrame(df.c1.values.reshape(-1,2),columns=['c2','c3'])\n",
    "df = df.rename(columns={'c2': 'date'})\n",
    "df = df.rename(columns={'c3': 'sentiment'})\n",
    "\n",
    "savedf = df"
   ]
  },
  {
   "cell_type": "markdown",
   "metadata": {},
   "source": [
    "### strip the words from C2"
   ]
  },
  {
   "cell_type": "code",
   "execution_count": 293,
   "metadata": {},
   "outputs": [
    {
     "data": {
      "text/html": [
       "<div>\n",
       "<style scoped>\n",
       "    .dataframe tbody tr th:only-of-type {\n",
       "        vertical-align: middle;\n",
       "    }\n",
       "\n",
       "    .dataframe tbody tr th {\n",
       "        vertical-align: top;\n",
       "    }\n",
       "\n",
       "    .dataframe thead th {\n",
       "        text-align: right;\n",
       "    }\n",
       "</style>\n",
       "<table border=\"1\" class=\"dataframe\">\n",
       "  <thead>\n",
       "    <tr style=\"text-align: right;\">\n",
       "      <th></th>\n",
       "      <th>date</th>\n",
       "      <th>sentiment</th>\n",
       "    </tr>\n",
       "  </thead>\n",
       "  <tbody>\n",
       "    <tr>\n",
       "      <th>0</th>\n",
       "      <td>2022-01-24</td>\n",
       "      <td>13</td>\n",
       "    </tr>\n",
       "    <tr>\n",
       "      <th>1</th>\n",
       "      <td>2022-01-23</td>\n",
       "      <td>11</td>\n",
       "    </tr>\n",
       "    <tr>\n",
       "      <th>2</th>\n",
       "      <td>2022-01-22</td>\n",
       "      <td>13</td>\n",
       "    </tr>\n",
       "    <tr>\n",
       "      <th>3</th>\n",
       "      <td>2022-01-21</td>\n",
       "      <td>19</td>\n",
       "    </tr>\n",
       "    <tr>\n",
       "      <th>4</th>\n",
       "      <td>2022-01-20</td>\n",
       "      <td>24</td>\n",
       "    </tr>\n",
       "    <tr>\n",
       "      <th>...</th>\n",
       "      <td>...</td>\n",
       "      <td>...</td>\n",
       "    </tr>\n",
       "    <tr>\n",
       "      <th>1446</th>\n",
       "      <td>2018-02-05</td>\n",
       "      <td>11</td>\n",
       "    </tr>\n",
       "    <tr>\n",
       "      <th>1447</th>\n",
       "      <td>2018-02-04</td>\n",
       "      <td>24</td>\n",
       "    </tr>\n",
       "    <tr>\n",
       "      <th>1448</th>\n",
       "      <td>2018-02-03</td>\n",
       "      <td>40</td>\n",
       "    </tr>\n",
       "    <tr>\n",
       "      <th>1449</th>\n",
       "      <td>2018-02-02</td>\n",
       "      <td>15</td>\n",
       "    </tr>\n",
       "    <tr>\n",
       "      <th>1450</th>\n",
       "      <td>2018-02-01</td>\n",
       "      <td>30</td>\n",
       "    </tr>\n",
       "  </tbody>\n",
       "</table>\n",
       "<p>1451 rows × 2 columns</p>\n",
       "</div>"
      ],
      "text/plain": [
       "           date sentiment\n",
       "0    2022-01-24        13\n",
       "1    2022-01-23        11\n",
       "2    2022-01-22        13\n",
       "3    2022-01-21        19\n",
       "4    2022-01-20        24\n",
       "...         ...       ...\n",
       "1446 2018-02-05        11\n",
       "1447 2018-02-04        24\n",
       "1448 2018-02-03        40\n",
       "1449 2018-02-02        15\n",
       "1450 2018-02-01        30\n",
       "\n",
       "[1451 rows x 2 columns]"
      ]
     },
     "execution_count": 293,
     "metadata": {},
     "output_type": "execute_result"
    }
   ],
   "source": [
    "df = savedf\n",
    "\n",
    "df['sentiment'] = df['sentiment'].str[0:2]\n",
    "\n",
    "savedf = df"
   ]
  },
  {
   "cell_type": "markdown",
   "metadata": {},
   "source": [
    "#### Add btc price "
   ]
  },
  {
   "cell_type": "code",
   "execution_count": 263,
   "metadata": {},
   "outputs": [],
   "source": [
    "btcPrice = pd.read_csv(r\"./btcPrice.csv\")\n",
    "btcPrice = btcPrice.drop(columns=['Open', 'High', 'Low', 'Volume', 'Adj Close'])\n",
    "btcPriceSave = btcPrice"
   ]
  },
  {
   "cell_type": "markdown",
   "metadata": {},
   "source": [
    "#### Merge BTC prices with dataframe    "
   ]
  },
  {
   "cell_type": "code",
   "execution_count": 299,
   "metadata": {},
   "outputs": [],
   "source": [
    "btcPrice = btcPriceSave\n",
    "\n",
    "df = savedf\n",
    "\n",
    "df.date = pd.to_datetime(df.date)\n",
    "btcPrice.Date = pd.to_datetime(btcPrice.Date)\n",
    "btcPrice = btcPrice.rename(columns={'Date': 'date'})\n",
    "df = pd.merge(btcPrice, df, how='outer', on='date')\n",
    "df = df.dropna()\n",
    "\n",
    "savedf = df"
   ]
  },
  {
   "cell_type": "code",
   "execution_count": 300,
   "metadata": {},
   "outputs": [
    {
     "data": {
      "text/html": [
       "<div>\n",
       "<style scoped>\n",
       "    .dataframe tbody tr th:only-of-type {\n",
       "        vertical-align: middle;\n",
       "    }\n",
       "\n",
       "    .dataframe tbody tr th {\n",
       "        vertical-align: top;\n",
       "    }\n",
       "\n",
       "    .dataframe thead th {\n",
       "        text-align: right;\n",
       "    }\n",
       "</style>\n",
       "<table border=\"1\" class=\"dataframe\">\n",
       "  <thead>\n",
       "    <tr style=\"text-align: right;\">\n",
       "      <th></th>\n",
       "      <th>date</th>\n",
       "      <th>Close</th>\n",
       "      <th>sentiment</th>\n",
       "    </tr>\n",
       "  </thead>\n",
       "  <tbody>\n",
       "    <tr>\n",
       "      <th>1233</th>\n",
       "      <td>2018-02-01</td>\n",
       "      <td>9170.540039</td>\n",
       "      <td>30</td>\n",
       "    </tr>\n",
       "    <tr>\n",
       "      <th>1234</th>\n",
       "      <td>2018-02-02</td>\n",
       "      <td>8830.750000</td>\n",
       "      <td>15</td>\n",
       "    </tr>\n",
       "    <tr>\n",
       "      <th>1235</th>\n",
       "      <td>2018-02-03</td>\n",
       "      <td>9174.910156</td>\n",
       "      <td>40</td>\n",
       "    </tr>\n",
       "    <tr>\n",
       "      <th>1236</th>\n",
       "      <td>2018-02-04</td>\n",
       "      <td>8277.009766</td>\n",
       "      <td>24</td>\n",
       "    </tr>\n",
       "    <tr>\n",
       "      <th>1237</th>\n",
       "      <td>2018-02-05</td>\n",
       "      <td>6955.270020</td>\n",
       "      <td>11</td>\n",
       "    </tr>\n",
       "    <tr>\n",
       "      <th>...</th>\n",
       "      <td>...</td>\n",
       "      <td>...</td>\n",
       "      <td>...</td>\n",
       "    </tr>\n",
       "    <tr>\n",
       "      <th>2682</th>\n",
       "      <td>2022-01-20</td>\n",
       "      <td>40680.417969</td>\n",
       "      <td>24</td>\n",
       "    </tr>\n",
       "    <tr>\n",
       "      <th>2683</th>\n",
       "      <td>2022-01-21</td>\n",
       "      <td>36457.316406</td>\n",
       "      <td>19</td>\n",
       "    </tr>\n",
       "    <tr>\n",
       "      <th>2684</th>\n",
       "      <td>2022-01-22</td>\n",
       "      <td>35030.250000</td>\n",
       "      <td>13</td>\n",
       "    </tr>\n",
       "    <tr>\n",
       "      <th>2685</th>\n",
       "      <td>2022-01-23</td>\n",
       "      <td>36276.804688</td>\n",
       "      <td>11</td>\n",
       "    </tr>\n",
       "    <tr>\n",
       "      <th>2686</th>\n",
       "      <td>2022-01-24</td>\n",
       "      <td>36654.328125</td>\n",
       "      <td>13</td>\n",
       "    </tr>\n",
       "  </tbody>\n",
       "</table>\n",
       "<p>1451 rows × 3 columns</p>\n",
       "</div>"
      ],
      "text/plain": [
       "           date         Close sentiment\n",
       "1233 2018-02-01   9170.540039        30\n",
       "1234 2018-02-02   8830.750000        15\n",
       "1235 2018-02-03   9174.910156        40\n",
       "1236 2018-02-04   8277.009766        24\n",
       "1237 2018-02-05   6955.270020        11\n",
       "...         ...           ...       ...\n",
       "2682 2022-01-20  40680.417969        24\n",
       "2683 2022-01-21  36457.316406        19\n",
       "2684 2022-01-22  35030.250000        13\n",
       "2685 2022-01-23  36276.804688        11\n",
       "2686 2022-01-24  36654.328125        13\n",
       "\n",
       "[1451 rows x 3 columns]"
      ]
     },
     "execution_count": 300,
     "metadata": {},
     "output_type": "execute_result"
    }
   ],
   "source": [
    "df = savedf\n",
    "\n"
   ]
  }
 ],
 "metadata": {
  "interpreter": {
   "hash": "b0fa6594d8f4cbf19f97940f81e996739fb7646882a419484c72d19e05852a7e"
  },
  "kernelspec": {
   "display_name": "Python 3.9.10 64-bit",
   "language": "python",
   "name": "python3"
  },
  "language_info": {
   "codemirror_mode": {
    "name": "ipython",
    "version": 3
   },
   "file_extension": ".py",
   "mimetype": "text/x-python",
   "name": "python",
   "nbconvert_exporter": "python",
   "pygments_lexer": "ipython3",
   "version": "3.9.10"
  },
  "orig_nbformat": 4
 },
 "nbformat": 4,
 "nbformat_minor": 2
}
