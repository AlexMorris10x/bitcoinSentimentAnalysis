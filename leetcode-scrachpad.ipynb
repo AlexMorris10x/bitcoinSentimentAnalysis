{
 "cells": [
  {
   "cell_type": "markdown",
   "metadata": {},
   "source": [
    "Get as good as humanly possible for Data Science "
   ]
  },
  {
   "cell_type": "code",
   "execution_count": 1,
   "metadata": {},
   "outputs": [
    {
     "name": "stdout",
     "output_type": "stream",
     "text": [
      "9\n"
     ]
    }
   ],
   "source": [
    "nums = [2,7,11,15]\n",
    "target = 9\n",
    "class Solution:\n",
    "    # def twoSum(self, nums: List[int], target: int) -> List[int]:\n",
    "    print(target)\n",
    "\n",
    "     "
   ]
  },
  {
   "cell_type": "code",
   "execution_count": 11,
   "metadata": {},
   "outputs": [
    {
     "name": "stdout",
     "output_type": "stream",
     "text": [
      "[0, 1]\n"
     ]
    }
   ],
   "source": [
    "# Input: nums = [2,7,11,15], target = 9\n",
    "# Output: [0,1]\n",
    "# Explanation: Because nums[0] + nums[1] == 9, we return [0, 1].\n",
    "\n",
    "nums = [2,7,11,15]\n",
    "target = 9 \n",
    "\n",
    "def twoSum(): \n",
    "    prevMap = {}\n",
    "    for i, n in enumerate(nums):\n",
    "        diff = target - n \n",
    "        if diff in prevMap:\n",
    "            return[prevMap[diff], i]\n",
    "        prevMap[n] = i\n",
    "    return\n",
    "\n",
    "print(twoSum())\n",
    "        "
   ]
  },
  {
   "cell_type": "code",
   "execution_count": 31,
   "metadata": {},
   "outputs": [
    {
     "name": "stdout",
     "output_type": "stream",
     "text": [
      "True\n"
     ]
    }
   ],
   "source": [
    "# Input: x = 121\n",
    "# Output: true\n",
    "# Explanation: 121 reads as 121 from left to right and from right to left.\n",
    "\n",
    "\n",
    "def palindromeNum():\n",
    "    x = 121\n",
    "    x = str(x)\n",
    "    revX = x[::-1]\n",
    "    return x == revX\n",
    "\n",
    "    # if x == x[::-1]:\n",
    "    #     return True\n",
    "\n",
    "\n",
    "print(palindromeNum())\n",
    "    \n"
   ]
  },
  {
   "cell_type": "code",
   "execution_count": null,
   "metadata": {},
   "outputs": [],
   "source": [
    "# Input: coins = [1,2,5], amount = 11\n",
    "# Output: 3\n",
    "# Explanation: 11 = 5 + 5 + 1\n",
    "# Example 2:\n",
    "\n",
    "# Input: coins = [2], amount = 3\n",
    "# Output: -1\n",
    "# Example 3:\n",
    "\n",
    "# Input: coins = [1], amount = 0\n",
    "# Output: 0\n",
    "\n",
    "def coinChange():\n",
    "    coins = [1,2,5]\n",
    "    amount = 11\n",
    "    total = 0\n",
    "\n",
    "    # while total == 0: \n",
    "    if coins[-1] <= amount: \n",
    "\n",
    "\n",
    "\n",
    "\n",
    "print(coinChange())"
   ]
  },
  {
   "cell_type": "code",
   "execution_count": null,
   "metadata": {},
   "outputs": [],
   "source": [
    "# Given n non-negative integers representing an elevation map where the width of each bar is 1, compute how much water it can trap after raining.\n",
    "\n",
    "\n",
    "# Input: height = [0,1,0,2,1,0,1,3,2,1,2,1]\n",
    "# Output: 6\n",
    "# Explanation: The above elevation map (black section) is represented by array [0,1,0,2,1,0,1,3,2,1,2,1]. In this case, 6 units of rain water (blue section) are being trapped.\n",
    "\n"
   ]
  },
  {
   "cell_type": "code",
   "execution_count": 6,
   "metadata": {},
   "outputs": [
    {
     "name": "stdout",
     "output_type": "stream",
     "text": [
      "True\n"
     ]
    }
   ],
   "source": [
    "# Given a string s containing just the characters '(', ')', '{', '}', '[' and ']', determine if the input string is valid.\n",
    "\n",
    "# An input string is valid if:\n",
    "\n",
    "# Open brackets must be closed by the same type of brackets.\n",
    "# Open brackets must be closed in the correct order.\n",
    " \n",
    "\n",
    "# Example 1:\n",
    "\n",
    "# Input: s = \"()\"\n",
    "# Output: true\n",
    "# Example 2:\n",
    "\n",
    "# Input: s = \"()[]{}\"\n",
    "# Output: true\n",
    "# Example 3:\n",
    "\n",
    "# Input: s = \"(]\"\n",
    "# Output: false\n",
    "s = \"()[]{}\"\n",
    "\n",
    "def isValid(s):\n",
    "    stack = []\n",
    "    for i in s:\n",
    "        if i == '(' or i == '{' or i == '[':\n",
    "            stack.append(i)\n",
    "        else:\n",
    "            if len(stack) == 0:\n",
    "                return False\n",
    "            else:\n",
    "                if i == ')' and stack[-1] == '(':\n",
    "                    stack.pop()\n",
    "                elif i == '}' and stack[-1] == '{':\n",
    "                    stack.pop()\n",
    "                elif i == ']' and stack[-1] == '[':\n",
    "                    stack.pop()\n",
    "                else:\n",
    "                    return False\n",
    "    if len(stack) == 0:\n",
    "        return True\n",
    "    else:\n",
    "        return False\n",
    "\n",
    "print(isValid(s))\n",
    "\n",
    " \n"
   ]
  },
  {
   "cell_type": "code",
   "execution_count": 7,
   "metadata": {},
   "outputs": [],
   "source": [
    "# Roman numerals are represented by seven different symbols: I, V, X, L, C, D and M.\n",
    "\n",
    "# Symbol       Value\n",
    "# I             1\n",
    "# V             5\n",
    "# X             10\n",
    "# L             50\n",
    "# C             100\n",
    "# D             500\n",
    "# M             1000\n",
    "# For example, 2 is written as II in Roman numeral, just two one's added together. 12 is written as XII, which is simply X + II. The number 27 is written as XXVII, which is XX + V + II.\n",
    "\n",
    "# Roman numerals are usually written largest to smallest from left to right. However, the numeral for four is not IIII. Instead, the number four is written as IV. Because the one is before the five we subtract it making four. The same principle applies to the number nine, which is written as IX. There are six instances where subtraction is used:\n",
    "\n",
    "# I can be placed before V (5) and X (10) to make 4 and 9. \n",
    "# X can be placed before L (50) and C (100) to make 40 and 90. \n",
    "# C can be placed before D (500) and M (1000) to make 400 and 900.\n",
    "# Given a roman numeral, convert it to an integer.\n",
    "\n",
    " \n",
    "\n",
    "# Example 1:\n",
    "\n",
    "# Input: s = \"III\"\n",
    "# Output: 3\n",
    "# Explanation: III = 3.\n",
    "# Example 2:\n",
    "\n",
    "# Input: s = \"LVIII\"\n",
    "# Output: 58\n",
    "# Explanation: L = 50, V= 5, III = 3.\n",
    "# Example 3:\n",
    "\n",
    "# Input: s = \"MCMXCIV\"\n",
    "# Output: 1994\n",
    "# Explanation: M = 1000, CM = 900, XC = 90 and IV = 4.\n",
    " \n",
    "\n",
    "# Constraints:\n",
    "\n",
    "# 1 <= s.length <= 15\n",
    "# s contains only the characters ('I', 'V', 'X', 'L', 'C', 'D', 'M').\n",
    "# It is guaranteed that s is a valid roman numeral in the range [1, 3999].\n",
    "\n",
    "def romanToInt(s):\n",
    "    roman = {'I':1, 'V':5, 'X':10, 'L':50, 'C':100, 'D':500, 'M':1000}\n",
    "    total = 0\n",
    "    for i in range(len(s)):\n",
    "        if i == len(s) - 1:\n",
    "            total += roman[s[i]]\n",
    "        else:\n",
    "            if roman[s[i]] >= roman[s[i+1]]:\n",
    "                total += roman[s[i]]\n",
    "            else:\n",
    "                total -= roman[s[i]]\n",
    "    return total"
   ]
  },
  {
   "cell_type": "code",
   "execution_count": 9,
   "metadata": {},
   "outputs": [
    {
     "name": "stdout",
     "output_type": "stream",
     "text": [
      "35\n"
     ]
    }
   ],
   "source": [
    "arr = [1,35,3,2]\n",
    "def highestNumberInArray(arr):\n",
    "    highest = 0\n",
    "    for i in arr:\n",
    "        if i > highest:\n",
    "            highest = i\n",
    "    return highest  \n",
    "\n",
    "print(highestNumberInArray(arr))"
   ]
  },
  {
   "cell_type": "code",
   "execution_count": 10,
   "metadata": {},
   "outputs": [],
   "source": [
    "def removeDuplicatesFromSortednumsay(nums):\n",
    "    i = 0\n",
    "    while i < len(nums):\n",
    "        if nums[i] == nums[i+1]:\n",
    "            del nums[i]\n",
    "        else:\n",
    "            i += 1\n",
    "    return nums\n",
    "    "
   ]
  },
  {
   "cell_type": "code",
   "execution_count": 12,
   "metadata": {},
   "outputs": [
    {
     "name": "stdout",
     "output_type": "stream",
     "text": [
      "8\n"
     ]
    }
   ],
   "source": [
    "n = 5\n",
    "def climbStairs(n):\n",
    "    if n == 1:\n",
    "        return 1\n",
    "    elif n == 2:\n",
    "        return 2\n",
    "    else:\n",
    "        return climbStairs(n-1) + climbStairs(n-2)\n",
    "\n",
    "print(climbStairs(n))"
   ]
  },
  {
   "cell_type": "code",
   "execution_count": 16,
   "metadata": {},
   "outputs": [
    {
     "name": "stdout",
     "output_type": "stream",
     "text": [
      "6\n"
     ]
    }
   ],
   "source": [
    "arr  = [-2,1,-3,4,-1,2,1,-5,4]\n",
    "def maximumsubarray(arr):\n",
    "    max_ending_here = max_so_far = arr[0]\n",
    "    for i in range(1, len(arr)):\n",
    "        max_ending_here = max(arr[i], max_ending_here + arr[i])\n",
    "        max_so_far = max(max_so_far, max_ending_here)\n",
    "    return max_so_far\n",
    "\n",
    "print(maximumsubarray(arr))\n"
   ]
  },
  {
   "cell_type": "code",
   "execution_count": null,
   "metadata": {},
   "outputs": [],
   "source": []
  }
 ],
 "metadata": {
  "interpreter": {
   "hash": "b0fa6594d8f4cbf19f97940f81e996739fb7646882a419484c72d19e05852a7e"
  },
  "kernelspec": {
   "display_name": "Python 3.9.10 64-bit",
   "language": "python",
   "name": "python3"
  },
  "language_info": {
   "codemirror_mode": {
    "name": "ipython",
    "version": 3
   },
   "file_extension": ".py",
   "mimetype": "text/x-python",
   "name": "python",
   "nbconvert_exporter": "python",
   "pygments_lexer": "ipython3",
   "version": "3.9.10"
  },
  "orig_nbformat": 4
 },
 "nbformat": 4,
 "nbformat_minor": 2
}
